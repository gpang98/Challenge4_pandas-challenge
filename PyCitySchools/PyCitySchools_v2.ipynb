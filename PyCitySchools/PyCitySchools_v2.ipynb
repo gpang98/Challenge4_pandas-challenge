{
 "cells": [
  {
   "cell_type": "markdown",
   "metadata": {},
   "source": [
    "### Note\n",
    "* Instructions have been included for each segment. You do not have to follow them exactly, but they are included to help you think through the steps."
   ]
  },
  {
   "cell_type": "code",
   "execution_count": 1,
   "metadata": {},
   "outputs": [],
   "source": [
    "# Dependencies and Setup\n",
    "import pandas as pd\n",
    "from pathlib import Path\n",
    "\n",
    "# File to Load (Remember to Change These)\n",
    "school_data_to_load = Path(\"Resources/schools_complete.csv\")\n",
    "student_data_to_load = Path(\"Resources/students_complete.csv\")\n",
    "\n",
    "# Read School and Student Data File and store into Pandas DataFrames\n",
    "school_data = pd.read_csv(school_data_to_load)\n",
    "student_data = pd.read_csv(student_data_to_load)\n",
    "\n",
    "# Combine the data into a single dataset.  \n",
    "school_data_complete = pd.merge(student_data, school_data, how=\"left\", on=[\"school_name\", \"school_name\"])"
   ]
  },
  {
   "cell_type": "markdown",
   "metadata": {},
   "source": [
    "## Local Government Area Summary\n",
    "\n",
    "* Calculate the total number of schools\n",
    "\n",
    "* Calculate the total number of students\n",
    "\n",
    "* Calculate the total budget\n",
    "\n",
    "* Calculate the average maths score \n",
    "\n",
    "* Calculate the average reading score\n",
    "\n",
    "* Calculate the percentage of students with a passing maths score (50 or greater)\n",
    "\n",
    "* Calculate the percentage of students with a passing reading score (50 or greater)\n",
    "\n",
    "* Calculate the percentage of students who passed maths **and** reading (% Overall Passing)\n",
    "\n",
    "* Create a dataframe to hold the above results\n",
    "\n",
    "* Optional: give the displayed data cleaner formatting"
   ]
  },
  {
   "cell_type": "code",
   "execution_count": null,
   "metadata": {},
   "outputs": [],
   "source": [
    "school_data_complete.head()"
   ]
  },
  {
   "cell_type": "code",
   "execution_count": null,
   "metadata": {},
   "outputs": [],
   "source": [
    "#output_filename = \"output.csv\"\n",
    "#school_data_complete.to_csv(output_filename, index=False)\n",
    "#student_data_to_output = Path(\"Resources/students_complete.csv\")"
   ]
  },
  {
   "cell_type": "code",
   "execution_count": null,
   "metadata": {},
   "outputs": [],
   "source": [
    "#pass_math_and_reading = student_data.loc[(student_data[\"maths_score\"] >= 50) & (\n",
    "   # student_data[\"reading_score\"] >= 50), :].count()\n",
    "pass_math_and_reading = school_data_complete[(school_data_complete['maths_score'] >= 50) & \\\n",
    "                                             (school_data_complete['reading_score'] >= 50)]\n",
    "#percentage_passing_reading = (passing_reading.shape[0] / school_data_complete.shape[0]) * 100\n",
    "percentage_pass_math_and_reading = (pass_math_and_reading.shape[0] / total_students) * 100\n",
    "percentage_pass_math_and_reading\n",
    "#pass_math_and_reading"
   ]
  },
  {
   "cell_type": "code",
   "execution_count": null,
   "metadata": {},
   "outputs": [],
   "source": [
    "##This is complete solution"
   ]
  },
  {
   "cell_type": "code",
   "execution_count": 2,
   "metadata": {},
   "outputs": [
    {
     "data": {
      "text/html": [
       "<div>\n",
       "<style scoped>\n",
       "    .dataframe tbody tr th:only-of-type {\n",
       "        vertical-align: middle;\n",
       "    }\n",
       "\n",
       "    .dataframe tbody tr th {\n",
       "        vertical-align: top;\n",
       "    }\n",
       "\n",
       "    .dataframe thead th {\n",
       "        text-align: right;\n",
       "    }\n",
       "</style>\n",
       "<table border=\"1\" class=\"dataframe\">\n",
       "  <thead>\n",
       "    <tr style=\"text-align: right;\">\n",
       "      <th></th>\n",
       "      <th>Total School</th>\n",
       "      <th>Total Students</th>\n",
       "      <th>Total Budget</th>\n",
       "      <th>Average Math Score</th>\n",
       "      <th>Average Reading Score</th>\n",
       "      <th>% Passing Maths</th>\n",
       "      <th>% Passing Reading</th>\n",
       "      <th>% Overall Passing</th>\n",
       "    </tr>\n",
       "  </thead>\n",
       "  <tbody>\n",
       "    <tr>\n",
       "      <th>0</th>\n",
       "      <td>15</td>\n",
       "      <td>39,170</td>\n",
       "      <td>$24,649,428.00</td>\n",
       "      <td>70.338192</td>\n",
       "      <td>69.980138</td>\n",
       "      <td>86.078632</td>\n",
       "      <td>84.426857</td>\n",
       "      <td>72.808272</td>\n",
       "    </tr>\n",
       "  </tbody>\n",
       "</table>\n",
       "</div>"
      ],
      "text/plain": [
       "   Total School Total Students    Total Budget  Average Math Score  \\\n",
       "0            15         39,170  $24,649,428.00           70.338192   \n",
       "\n",
       "   Average Reading Score  % Passing Maths  % Passing Reading  \\\n",
       "0              69.980138        86.078632          84.426857   \n",
       "\n",
       "   % Overall Passing  \n",
       "0          72.808272  "
      ]
     },
     "execution_count": 2,
     "metadata": {},
     "output_type": "execute_result"
    }
   ],
   "source": [
    "# calculate all the required statistic\n",
    "\n",
    "# calculate total no of school\n",
    "total_schools = school_data_complete[\"school_name\"].nunique()  #return the count of unique school names\n",
    "\n",
    "# calculate total no of students\n",
    "#total_students = school_data_complete.shape[0]\n",
    "total_students = school_data_complete['student_name'].count()\n",
    "\n",
    "# calculate total budget for all schools combined\n",
    "total_budget=school_data[\"budget\"].sum()\n",
    "\n",
    "# calculate average math score for all students\n",
    "average_math = round(student_data[\"maths_score\"].mean(),6)\n",
    "\n",
    "# calculate average reading score for all students\n",
    "average_reading = round(student_data[\"reading_score\"].mean(),6)\n",
    "\n",
    "# calculate percentage passing math with > 50 for all students\n",
    "passing_math = school_data_complete[school_data_complete[\"maths_score\"] >= 50]\n",
    "#percentage_passing_math = (passing_math.shape[0] / school_data_complete.shape[0]) * 100\n",
    "percentage_passing_math = (passing_math.shape[0] / total_students) * 100\n",
    "\n",
    "# calculate percentage passing reading with > 50 for all students\n",
    "passing_reading = school_data_complete[school_data_complete[\"reading_score\"] >= 50]\n",
    "#percentage_passing_reading = (passing_reading.shape[0] / school_data_complete.shape[0]) * 100\n",
    "percentage_passing_reading = (passing_reading.shape[0] / total_students) * 100\n",
    "\n",
    "\n",
    "# calculate percentage passing math and reading with > 50 for all students\n",
    "#pass_math_and_reading = student_data.loc[(student_data[\"maths_score\"] >= 50) & (\n",
    "#    student_data[\"reading_score\"] >= 50), :].count()\n",
    "#percentage_pass_math_n_reading = (pass_math_and_reading / total_students) * 100\n",
    "#percentage_pass_math_n_reading_score=percentage_pass_math_n_reading[\"reading_score\"]\n",
    "pass_math_and_reading = school_data_complete[(school_data_complete['maths_score'] >= 50) & \\\n",
    "                                             (school_data_complete['reading_score'] >= 50)]\n",
    "percentage_pass_math_and_reading = (pass_math_and_reading.shape[0] / total_students) * 100\n",
    "\n",
    "\n",
    "result_df = pd.DataFrame({\n",
    "    \"Total School\": [total_schools],\n",
    "    \"Total Students\": [total_students],\n",
    "    \"Total Budget\": [total_budget],\n",
    "    \"Average Math Score\": [average_math],\n",
    "    \"Average Reading Score\": [average_reading],\n",
    "    \"% Passing Maths\": [percentage_passing_math],\n",
    "    \"% Passing Reading\": [percentage_passing_reading],\n",
    "    \"% Overall Passing\": [percentage_pass_math_and_reading]\n",
    "})\n",
    "result_df[\"Total Students\"] = result_df[\"Total Students\"].map('{:,.0f}'.format)\n",
    "result_df[\"Total Budget\"] = result_df[\"Total Budget\"].map('${:,.2f}'.format)\n",
    "\n",
    "result_df"
   ]
  },
  {
   "cell_type": "code",
   "execution_count": null,
   "metadata": {},
   "outputs": [],
   "source": [
    "## End of Solution"
   ]
  },
  {
   "cell_type": "code",
   "execution_count": null,
   "metadata": {},
   "outputs": [],
   "source": [
    "total_school = school_data_complete[\"school_name\"].nunique()\n",
    "total_school"
   ]
  },
  {
   "cell_type": "code",
   "execution_count": null,
   "metadata": {},
   "outputs": [],
   "source": [
    "#total_school = school_data_complete[\"school_name\"].nunique()\n",
    "#total_school = school_data[\"school_name\"].count()\n",
    "#total_school"
   ]
  },
  {
   "cell_type": "code",
   "execution_count": null,
   "metadata": {},
   "outputs": [],
   "source": [
    "#total_school = school_data_complete[\"school_name\"].value_counts()\n",
    "#total_school = total_school.sum()\n",
    "#total_school"
   ]
  },
  {
   "cell_type": "code",
   "execution_count": null,
   "metadata": {},
   "outputs": [],
   "source": [
    "total_students = school_data_complete.shape[0]\n",
    "total_students"
   ]
  },
  {
   "cell_type": "code",
   "execution_count": null,
   "metadata": {},
   "outputs": [],
   "source": [
    "#total_student = school_data_complete[\"school_name\"].count()\n",
    "#total_student = student_data[\"school_name\"].count()\n",
    "#total_student"
   ]
  },
  {
   "cell_type": "code",
   "execution_count": null,
   "metadata": {},
   "outputs": [],
   "source": [
    "#total_student = school_data_complete[\"school_name\"].count()\n",
    "#total_student"
   ]
  },
  {
   "cell_type": "code",
   "execution_count": null,
   "metadata": {},
   "outputs": [],
   "source": [
    "total_budget=school_data[\"budget\"].sum()\n",
    "total_budget"
   ]
  },
  {
   "cell_type": "code",
   "execution_count": null,
   "metadata": {},
   "outputs": [],
   "source": [
    "total_budget = school_data_complete.groupby(\"school_name\")[\"budget\"].mean().sum()\n",
    "#total_budget = total_budget.sum()\n",
    "total_budget"
   ]
  },
  {
   "cell_type": "code",
   "execution_count": null,
   "metadata": {},
   "outputs": [],
   "source": [
    "#total_budget = school_data_complete.groupby(\"school_name\")[\"budget\"].mean()\n",
    "#total_budget"
   ]
  },
  {
   "cell_type": "code",
   "execution_count": null,
   "metadata": {},
   "outputs": [],
   "source": [
    "average_math = round(student_data[\"maths_score\"].mean(),6)\n",
    "average_math"
   ]
  },
  {
   "cell_type": "code",
   "execution_count": null,
   "metadata": {},
   "outputs": [],
   "source": [
    "average_math = round(school_data_complete[\"maths_score\"].mean(),6)\n",
    "average_math"
   ]
  },
  {
   "cell_type": "code",
   "execution_count": null,
   "metadata": {},
   "outputs": [],
   "source": [
    "average_reading = round(student_data[\"reading_score\"].mean(),6)\n",
    "average_reading"
   ]
  },
  {
   "cell_type": "code",
   "execution_count": null,
   "metadata": {},
   "outputs": [],
   "source": [
    "passing_math_df = school_data_complete[school_data_complete[\"maths_score\"] >= 50]\n",
    "percentage_passing_math = (passing_math_df.shape[0] / school_data_complete.shape[0]) * 100\n",
    "percentage_passing_math"
   ]
  },
  {
   "cell_type": "code",
   "execution_count": null,
   "metadata": {},
   "outputs": [],
   "source": [
    "pass_math = student_data[student_data[\"maths_score\"] >= 50].count()\n",
    "percentage_pass_math = (pass_math / total_students) * 100\n",
    "percentage_pass_math_score = percentage_pass_math[\"maths_score\"]\n",
    "percentage_pass_math_score"
   ]
  },
  {
   "cell_type": "code",
   "execution_count": null,
   "metadata": {},
   "outputs": [],
   "source": [
    "pass_reading = student_data[student_data[\"reading_score\"] >= 50].count()\n",
    "percentage_pass_reading = (pass_reading / total_students) * 100\n",
    "percentage_pass_reading_score = percentage_pass_reading[\"reading_score\"]\n",
    "percentage_pass_reading_score"
   ]
  },
  {
   "cell_type": "code",
   "execution_count": null,
   "metadata": {},
   "outputs": [],
   "source": [
    "pass_math_and_reading = student_data.loc[(student_data[\"maths_score\"] >= 50) & (\n",
    "    student_data[\"reading_score\"] >= 50), :].count()\n",
    "#pass_math_and_reading.count()\n",
    "percentage_pass_math_n_reading = (pass_math_and_reading / total_students) * 100\n",
    "percentage_pass_math_n_reading_score=percentage_pass_math_n_reading[\"reading_score\"]\n",
    "percentage_pass_math_n_reading_score"
   ]
  },
  {
   "cell_type": "code",
   "execution_count": null,
   "metadata": {},
   "outputs": [],
   "source": [
    "result_df = pd.DataFrame({\n",
    "    \"Total School\": [total_school],\n",
    "    \"Total Students\": [total_students],\n",
    "    \"Total Budget\": [total_budget],\n",
    "    \"Average Math Score\": [average_math],\n",
    "    \"Average Reading Score\": [average_reading],\n",
    "    \"% Passing Maths\": [percentage_pass_math_score],\n",
    "    \"% Passing Reading\": [percentage_pass_reading_score],\n",
    "    \"% Overall Passing\": [percentage_pass_math_n_reading_score]\n",
    "})\n",
    "#result_df[\"Total Students\"] = result_df[\"Total Students\"].apply(lambda x: '{:.0f}'.format(x))\n",
    "#result_df[\"Total Budget\"] = result_df[\"Total Budget\"].apply(lambda x: '${:.2f}'.format(x))\n",
    "\n",
    "result_df[\"Total Students\"] = result_df[\"Total Students\"].map('{:,.0f}'.format)\n",
    "result_df[\"Total Budget\"] = result_df[\"Total Budget\"].map('${:,.2f}'.format)\n",
    "\n",
    "result_df"
   ]
  },
  {
   "cell_type": "code",
   "execution_count": null,
   "metadata": {},
   "outputs": [],
   "source": [
    "data = {\n",
    "    \"Total School\": [total_school],\n",
    "    \"Total Students\": [total_students],\n",
    "    \"Total Budget\": [total_budget],\n",
    "    \"Average Math Score\": [average_math],\n",
    "    \"Average Reading Score\": [average_reading],\n",
    "    \"% Passing Maths\": [percentage_pass_math_score],\n",
    "    \"% Passing Reading\": [percentage_pass_reading_score],\n",
    "    \"% Overall Passing\": [percentage_pass_math_n_reading_score]\n",
    "}\n",
    "\n",
    "df = pd.DataFrame(data)\n",
    "df[\"Total Students\"] = df[\"Total Students\"].map('{:,.0f}'.format)\n",
    "df[\"Total Budget\"] = df[\"Total Budget\"].map('${:,.2f}'.format)\n",
    "\n",
    "print(df)"
   ]
  },
  {
   "cell_type": "code",
   "execution_count": null,
   "metadata": {},
   "outputs": [],
   "source": [
    "school_data_complete.head()"
   ]
  },
  {
   "cell_type": "code",
   "execution_count": null,
   "metadata": {},
   "outputs": [],
   "source": [
    "# calculate percentage passing math and reading with > 50 for all students\n",
    "\n",
    "# Create a new column 'pass_both' indicating whether a student passed both math and reading\n",
    "school_data_complete['pass_both'] = (school_data_complete['maths_score'] > 50) & (school_data_complete['reading_score'] > 50)\n",
    "\n",
    "# Group the data by school_name and calculate overall passing percentage\n",
    "grouped[\"% Overall Passing\"] = school_data_complete.groupby('school_name')['pass_both'].mean() * 100\n",
    "\n",
    "# Print the result\n",
    "print(grouped)\n",
    "\n"
   ]
  },
  {
   "cell_type": "code",
   "execution_count": null,
   "metadata": {},
   "outputs": [],
   "source": [
    "# Create a new column 'pass_both' indicating whether a student passed both math and reading\n",
    "school_data_complete['pass_both'] = (school_data_complete['maths_score'] > 50) & (school_data_complete['reading_score'] > 50)\n",
    "\n",
    "# Group the data by school_name and calculate overall passing percentage\n",
    "grouped[\"% Overall Passing\"] = school_data_complete.groupby('school_name')['pass_both'].mean() * 100"
   ]
  },
  {
   "cell_type": "code",
   "execution_count": null,
   "metadata": {},
   "outputs": [],
   "source": [
    "# rename columns\n",
    "#school_data_overview = school_data_complete.rename(columns={\"type\": \"School Type\"}, inplace=False)\n",
    "#school_data_overview.head()"
   ]
  },
  {
   "cell_type": "code",
   "execution_count": null,
   "metadata": {},
   "outputs": [],
   "source": [
    "# Calculate the required statistics\n",
    "grouped = school_data_complete.groupby('school_name').agg({\n",
    "    'type': 'first',\n",
    "    'size': 'first',\n",
    "    'budget': 'first',\n",
    "    'maths_score2': 'mean',\n",
    "    'reading_score2': 'mean',\n",
    "    'Passing Math': 'mean',\n",
    "    'Passing Reading': 'mean',\n",
    "    'Overall Passing': 'mean',\n",
    "#    'Overall Passing2': 'mean',\n",
    "    'maths_score': lambda x: (x >= 50).sum() / len(x) * 100,\n",
    "    'reading_score': lambda x: (x >= 50).sum() / len(x) * 100\n",
    "}).reset_index()\n",
    "\n",
    "# Calculate additional columns\n",
    "grouped['Per Student Budget'] = grouped['budget'] / grouped['size']\n",
    "\n",
    "# Create a new column 'pass_both' indicating whether a student passed both math and reading\n",
    "school_data_complete['pass_both'] = (school_data_complete['maths_score'] > 50) & (school_data_complete['reading_score'] > 50)\n",
    "\n",
    "# Group the data by school_name and calculate overall passing percentage\n",
    "grouped[\"% Overall Passing\"]  = school_data_complete.groupby('school_name')['pass_both'].mean() * 100\n",
    "\n",
    "\n",
    "# Rename columns\n",
    "grouped.rename(columns={\n",
    "    'school_name': 'School Name',\n",
    "    'type': 'School Type',\n",
    "    'size': 'Total Students',\n",
    "    'budget': 'Total School Budget',\n",
    "    'maths_score': 'Average Maths Score',\n",
    "    'reading_score': 'Average Reading Score',\n",
    "    'maths_score': '% Passing Maths',\n",
    "    'reading_score': '% Passing Reading'\n",
    "}, inplace=True)\n",
    "\n",
    "# Print the result\n",
    "grouped = grouped.loc[:,[\"School Name\", \"School Type\",\"Total Students\",\n",
    "                 \"Per Student Budget\",\"Average Maths Score\",\n",
    "                 \"Average Reading Score\",\"% Passing Maths\",\n",
    "                  \"% Passing Reading\",\"% Overall Passing\"]]\n",
    "grouped.set_index('School Name', inplace=True)  # use 'School_Name' as index\n",
    "grouped.rename_axis(None, inplace=True)   # to hide the index header\n",
    "grouped"
   ]
  },
  {
   "cell_type": "code",
   "execution_count": null,
   "metadata": {},
   "outputs": [],
   "source": [
    "school_data_complete['pass_both'] = (school_data_complete['maths_score'] > 50) & (school_data_complete['reading_score'] > 50)\n",
    "school_data_complete"
   ]
  },
  {
   "cell_type": "code",
   "execution_count": null,
   "metadata": {},
   "outputs": [],
   "source": [
    "# Testing...\n",
    "# Calculate the required statistics\n",
    "school_data_complete[\"maths_score2\"]=school_data_complete[\"maths_score\"]\n",
    "school_data_complete[\"reading_score2\"]=school_data_complete[\"reading_score\"]\n",
    "school_data_complete[\"Passing Math\"]=school_data_complete[\"maths_score\"] >= 50\n",
    "school_data_complete[\"Passing Reading\"]=school_data_complete[\"reading_score\"] >= 50\n",
    "school_data_complete['pass_both'] = (school_data_complete['maths_score'] >= 50) & (school_data_complete['reading_score'] >= 50)\n",
    "\n",
    "\n",
    "#school_data_complete[\"Overall Passing2\"] = school_data_complete.loc[(student_data[\"maths_score\"] >= 50) & (\n",
    " #   student_data[\"reading_score\"] >= 50)]\n",
    "\n",
    "# Calculate overall passing status where both math and reading are passed\n",
    "#school_data_complete['Overall Passing'] = school_data_complete['Passing Math'] & school_data_complete['Passing Reading']\n",
    "\n",
    "grouped = school_data_complete.groupby('school_name').agg({\n",
    "    'type': 'first',\n",
    "    'size': 'first',\n",
    "    'budget': 'first',\n",
    "    'maths_score2': 'mean',\n",
    "    'reading_score2': 'mean',\n",
    "    'Passing Math': 'mean',\n",
    "    'Passing Reading': 'mean',\n",
    "    'pass_both': lambda x: x.mean() * 100,    \n",
    "    'maths_score': lambda x: (x >= 50).sum() / len(x) * 100,\n",
    "    'reading_score': lambda x: (x >= 50).sum() / len(x) * 100\n",
    "}).reset_index()\n",
    "\n",
    "grouped.head()"
   ]
  },
  {
   "cell_type": "code",
   "execution_count": 3,
   "metadata": {},
   "outputs": [
    {
     "data": {
      "text/html": [
       "<div>\n",
       "<style scoped>\n",
       "    .dataframe tbody tr th:only-of-type {\n",
       "        vertical-align: middle;\n",
       "    }\n",
       "\n",
       "    .dataframe tbody tr th {\n",
       "        vertical-align: top;\n",
       "    }\n",
       "\n",
       "    .dataframe thead th {\n",
       "        text-align: right;\n",
       "    }\n",
       "</style>\n",
       "<table border=\"1\" class=\"dataframe\">\n",
       "  <thead>\n",
       "    <tr style=\"text-align: right;\">\n",
       "      <th></th>\n",
       "      <th>School Type</th>\n",
       "      <th>Total Students</th>\n",
       "      <th>Total School Budget</th>\n",
       "      <th>Per Student Budget</th>\n",
       "      <th>Average Maths Score</th>\n",
       "      <th>Average Reading Score</th>\n",
       "      <th>% Passing Maths</th>\n",
       "      <th>% Passing Reading</th>\n",
       "      <th>% Overall Passing</th>\n",
       "    </tr>\n",
       "  </thead>\n",
       "  <tbody>\n",
       "    <tr>\n",
       "      <th>Bailey High School</th>\n",
       "      <td>Government</td>\n",
       "      <td>4976</td>\n",
       "      <td>$3,124,928.00</td>\n",
       "      <td>$628.00</td>\n",
       "      <td>72.352894</td>\n",
       "      <td>71.008842</td>\n",
       "      <td>91.639871</td>\n",
       "      <td>87.379421</td>\n",
       "      <td>80.084405</td>\n",
       "    </tr>\n",
       "    <tr>\n",
       "      <th>Cabrera High School</th>\n",
       "      <td>Independent</td>\n",
       "      <td>1858</td>\n",
       "      <td>$1,081,356.00</td>\n",
       "      <td>$582.00</td>\n",
       "      <td>71.657158</td>\n",
       "      <td>71.359526</td>\n",
       "      <td>90.850377</td>\n",
       "      <td>89.074273</td>\n",
       "      <td>80.785791</td>\n",
       "    </tr>\n",
       "    <tr>\n",
       "      <th>Figueroa High School</th>\n",
       "      <td>Government</td>\n",
       "      <td>2949</td>\n",
       "      <td>$1,884,411.00</td>\n",
       "      <td>$639.00</td>\n",
       "      <td>68.698542</td>\n",
       "      <td>69.077993</td>\n",
       "      <td>81.654798</td>\n",
       "      <td>82.807731</td>\n",
       "      <td>67.650051</td>\n",
       "    </tr>\n",
       "    <tr>\n",
       "      <th>Ford High School</th>\n",
       "      <td>Government</td>\n",
       "      <td>2739</td>\n",
       "      <td>$1,763,916.00</td>\n",
       "      <td>$644.00</td>\n",
       "      <td>69.091274</td>\n",
       "      <td>69.572472</td>\n",
       "      <td>82.438846</td>\n",
       "      <td>82.219788</td>\n",
       "      <td>67.469880</td>\n",
       "    </tr>\n",
       "    <tr>\n",
       "      <th>Griffin High School</th>\n",
       "      <td>Independent</td>\n",
       "      <td>1468</td>\n",
       "      <td>$917,500.00</td>\n",
       "      <td>$625.00</td>\n",
       "      <td>71.788147</td>\n",
       "      <td>71.245232</td>\n",
       "      <td>91.212534</td>\n",
       "      <td>88.487738</td>\n",
       "      <td>81.335150</td>\n",
       "    </tr>\n",
       "    <tr>\n",
       "      <th>Hernandez High School</th>\n",
       "      <td>Government</td>\n",
       "      <td>4635</td>\n",
       "      <td>$3,022,020.00</td>\n",
       "      <td>$652.00</td>\n",
       "      <td>68.874865</td>\n",
       "      <td>69.186408</td>\n",
       "      <td>80.949299</td>\n",
       "      <td>81.877023</td>\n",
       "      <td>66.364617</td>\n",
       "    </tr>\n",
       "    <tr>\n",
       "      <th>Holden High School</th>\n",
       "      <td>Independent</td>\n",
       "      <td>427</td>\n",
       "      <td>$248,087.00</td>\n",
       "      <td>$581.00</td>\n",
       "      <td>72.583138</td>\n",
       "      <td>71.660422</td>\n",
       "      <td>89.929742</td>\n",
       "      <td>88.524590</td>\n",
       "      <td>78.922717</td>\n",
       "    </tr>\n",
       "    <tr>\n",
       "      <th>Huang High School</th>\n",
       "      <td>Government</td>\n",
       "      <td>2917</td>\n",
       "      <td>$1,910,635.00</td>\n",
       "      <td>$655.00</td>\n",
       "      <td>68.935207</td>\n",
       "      <td>68.910525</td>\n",
       "      <td>81.693521</td>\n",
       "      <td>81.453548</td>\n",
       "      <td>66.712376</td>\n",
       "    </tr>\n",
       "    <tr>\n",
       "      <th>Johnson High School</th>\n",
       "      <td>Government</td>\n",
       "      <td>4761</td>\n",
       "      <td>$3,094,650.00</td>\n",
       "      <td>$650.00</td>\n",
       "      <td>68.843100</td>\n",
       "      <td>69.039277</td>\n",
       "      <td>82.062592</td>\n",
       "      <td>81.978576</td>\n",
       "      <td>67.191766</td>\n",
       "    </tr>\n",
       "    <tr>\n",
       "      <th>Pena High School</th>\n",
       "      <td>Independent</td>\n",
       "      <td>962</td>\n",
       "      <td>$585,858.00</td>\n",
       "      <td>$609.00</td>\n",
       "      <td>72.088358</td>\n",
       "      <td>71.613306</td>\n",
       "      <td>91.683992</td>\n",
       "      <td>86.590437</td>\n",
       "      <td>79.209979</td>\n",
       "    </tr>\n",
       "    <tr>\n",
       "      <th>Rodriguez High School</th>\n",
       "      <td>Government</td>\n",
       "      <td>3999</td>\n",
       "      <td>$2,547,363.00</td>\n",
       "      <td>$637.00</td>\n",
       "      <td>72.047762</td>\n",
       "      <td>70.935984</td>\n",
       "      <td>90.797699</td>\n",
       "      <td>87.396849</td>\n",
       "      <td>79.419855</td>\n",
       "    </tr>\n",
       "    <tr>\n",
       "      <th>Shelton High School</th>\n",
       "      <td>Independent</td>\n",
       "      <td>1761</td>\n",
       "      <td>$1,056,600.00</td>\n",
       "      <td>$600.00</td>\n",
       "      <td>72.034072</td>\n",
       "      <td>70.257808</td>\n",
       "      <td>91.538898</td>\n",
       "      <td>86.712095</td>\n",
       "      <td>78.875639</td>\n",
       "    </tr>\n",
       "    <tr>\n",
       "      <th>Thomas High School</th>\n",
       "      <td>Independent</td>\n",
       "      <td>1635</td>\n",
       "      <td>$1,043,130.00</td>\n",
       "      <td>$638.00</td>\n",
       "      <td>69.581651</td>\n",
       "      <td>69.768807</td>\n",
       "      <td>83.853211</td>\n",
       "      <td>82.629969</td>\n",
       "      <td>69.480122</td>\n",
       "    </tr>\n",
       "    <tr>\n",
       "      <th>Wilson High School</th>\n",
       "      <td>Independent</td>\n",
       "      <td>2283</td>\n",
       "      <td>$1,319,574.00</td>\n",
       "      <td>$578.00</td>\n",
       "      <td>69.170828</td>\n",
       "      <td>68.876916</td>\n",
       "      <td>82.785808</td>\n",
       "      <td>81.296540</td>\n",
       "      <td>67.455103</td>\n",
       "    </tr>\n",
       "    <tr>\n",
       "      <th>Wright High School</th>\n",
       "      <td>Independent</td>\n",
       "      <td>1800</td>\n",
       "      <td>$1,049,400.00</td>\n",
       "      <td>$583.00</td>\n",
       "      <td>72.047222</td>\n",
       "      <td>70.969444</td>\n",
       "      <td>91.777778</td>\n",
       "      <td>86.666667</td>\n",
       "      <td>79.722222</td>\n",
       "    </tr>\n",
       "  </tbody>\n",
       "</table>\n",
       "</div>"
      ],
      "text/plain": [
       "                       School Type  Total Students Total School Budget  \\\n",
       "Bailey High School      Government            4976       $3,124,928.00   \n",
       "Cabrera High School    Independent            1858       $1,081,356.00   \n",
       "Figueroa High School    Government            2949       $1,884,411.00   \n",
       "Ford High School        Government            2739       $1,763,916.00   \n",
       "Griffin High School    Independent            1468         $917,500.00   \n",
       "Hernandez High School   Government            4635       $3,022,020.00   \n",
       "Holden High School     Independent             427         $248,087.00   \n",
       "Huang High School       Government            2917       $1,910,635.00   \n",
       "Johnson High School     Government            4761       $3,094,650.00   \n",
       "Pena High School       Independent             962         $585,858.00   \n",
       "Rodriguez High School   Government            3999       $2,547,363.00   \n",
       "Shelton High School    Independent            1761       $1,056,600.00   \n",
       "Thomas High School     Independent            1635       $1,043,130.00   \n",
       "Wilson High School     Independent            2283       $1,319,574.00   \n",
       "Wright High School     Independent            1800       $1,049,400.00   \n",
       "\n",
       "                      Per Student Budget  Average Maths Score  \\\n",
       "Bailey High School               $628.00            72.352894   \n",
       "Cabrera High School              $582.00            71.657158   \n",
       "Figueroa High School             $639.00            68.698542   \n",
       "Ford High School                 $644.00            69.091274   \n",
       "Griffin High School              $625.00            71.788147   \n",
       "Hernandez High School            $652.00            68.874865   \n",
       "Holden High School               $581.00            72.583138   \n",
       "Huang High School                $655.00            68.935207   \n",
       "Johnson High School              $650.00            68.843100   \n",
       "Pena High School                 $609.00            72.088358   \n",
       "Rodriguez High School            $637.00            72.047762   \n",
       "Shelton High School              $600.00            72.034072   \n",
       "Thomas High School               $638.00            69.581651   \n",
       "Wilson High School               $578.00            69.170828   \n",
       "Wright High School               $583.00            72.047222   \n",
       "\n",
       "                       Average Reading Score  % Passing Maths  \\\n",
       "Bailey High School                 71.008842        91.639871   \n",
       "Cabrera High School                71.359526        90.850377   \n",
       "Figueroa High School               69.077993        81.654798   \n",
       "Ford High School                   69.572472        82.438846   \n",
       "Griffin High School                71.245232        91.212534   \n",
       "Hernandez High School              69.186408        80.949299   \n",
       "Holden High School                 71.660422        89.929742   \n",
       "Huang High School                  68.910525        81.693521   \n",
       "Johnson High School                69.039277        82.062592   \n",
       "Pena High School                   71.613306        91.683992   \n",
       "Rodriguez High School              70.935984        90.797699   \n",
       "Shelton High School                70.257808        91.538898   \n",
       "Thomas High School                 69.768807        83.853211   \n",
       "Wilson High School                 68.876916        82.785808   \n",
       "Wright High School                 70.969444        91.777778   \n",
       "\n",
       "                       % Passing Reading  % Overall Passing  \n",
       "Bailey High School             87.379421          80.084405  \n",
       "Cabrera High School            89.074273          80.785791  \n",
       "Figueroa High School           82.807731          67.650051  \n",
       "Ford High School               82.219788          67.469880  \n",
       "Griffin High School            88.487738          81.335150  \n",
       "Hernandez High School          81.877023          66.364617  \n",
       "Holden High School             88.524590          78.922717  \n",
       "Huang High School              81.453548          66.712376  \n",
       "Johnson High School            81.978576          67.191766  \n",
       "Pena High School               86.590437          79.209979  \n",
       "Rodriguez High School          87.396849          79.419855  \n",
       "Shelton High School            86.712095          78.875639  \n",
       "Thomas High School             82.629969          69.480122  \n",
       "Wilson High School             81.296540          67.455103  \n",
       "Wright High School             86.666667          79.722222  "
      ]
     },
     "execution_count": 3,
     "metadata": {},
     "output_type": "execute_result"
    }
   ],
   "source": [
    "# Testing...\n",
    "# Calculate the required statistics\n",
    "school_data_complete[\"maths_score2\"]=school_data_complete[\"maths_score\"]\n",
    "school_data_complete[\"reading_score2\"]=school_data_complete[\"reading_score\"]\n",
    "school_data_complete[\"Passing Math\"]=school_data_complete[\"maths_score\"] >= 50\n",
    "school_data_complete[\"Passing Reading\"]=school_data_complete[\"reading_score\"] >= 50\n",
    "school_data_complete['pass_both'] = (school_data_complete['maths_score'] >= 50) & (school_data_complete['reading_score'] >= 50)\n",
    "\n",
    "\n",
    "#school_data_complete[\"Overall Passing2\"] = school_data_complete.loc[(student_data[\"maths_score\"] >= 50) & (\n",
    " #   student_data[\"reading_score\"] >= 50)]\n",
    "\n",
    "# Calculate overall passing status where both math and reading are passed\n",
    "#school_data_complete['Overall Passing'] = school_data_complete['Passing Math'] & school_data_complete['Passing Reading']\n",
    "\n",
    "grouped = school_data_complete.groupby('school_name').agg({\n",
    "    'type': 'first',\n",
    "    'size': 'first',\n",
    "    'budget': 'first',\n",
    "    'maths_score2': 'mean',\n",
    "    'reading_score2': 'mean',\n",
    "    'Passing Math': 'mean',\n",
    "    'Passing Reading': 'mean',\n",
    "    'pass_both': lambda x: x.mean() * 100,      \n",
    "    'maths_score': lambda x: (x >= 50).sum() / len(x) * 100,\n",
    "    'reading_score': lambda x: (x >= 50).sum() / len(x) * 100\n",
    "}).reset_index()\n",
    "\n",
    "# Calculate additional columns\n",
    "grouped['Per Student Budget'] = grouped['budget'] / grouped['size']\n",
    "# Calculate the overall passing percentage\n",
    "\n",
    "# Group the data by school_name and calculate overall passing percentage\n",
    "#grouped[\"pass_both\"]  = round(school_data_complete['pass_both'] * 100,6)\n",
    "\n",
    "# Rename columns\n",
    "grouped.rename(columns={\n",
    "    'school_name': 'School Name',\n",
    "    'type': 'School Type',\n",
    "    'size': 'Total Students',\n",
    "    'budget': 'Total School Budget',\n",
    "    'maths_score2': 'Average Maths Score',\n",
    "    'reading_score2': 'Average Reading Score',\n",
    "    'maths_score': '% Passing Maths',\n",
    "    'reading_score': '% Passing Reading',\n",
    "    'pass_both': '% Overall Passing'\n",
    "}, inplace=True)\n",
    "\n",
    "# Print the result\n",
    "grouped = grouped.loc[:,[\"School Name\", \"School Type\",\"Total Students\",\"Total School Budget\",\n",
    "                 \"Per Student Budget\",\"Average Maths Score\",\n",
    "                 \"Average Reading Score\",\"% Passing Maths\",\n",
    "                  \"% Passing Reading\",\"% Overall Passing\"]]\n",
    "grouped.set_index('School Name', inplace=True)  # use 'School_Name' as index\n",
    "grouped.rename_axis(None, inplace=True)   # to hide the index header\n",
    "grouped[\"Per Student Budget\"] = grouped[\"Per Student Budget\"].map(\"${:,.2f}\".format)\n",
    "grouped[\"Total School Budget\"] = grouped[\"Total School Budget\"].map(\"${:,.2f}\".format)\n",
    "grouped"
   ]
  },
  {
   "cell_type": "code",
   "execution_count": null,
   "metadata": {},
   "outputs": [],
   "source": [
    "# This works but % Overall Passing is wrong...\n",
    "# Calculate the required statistics\n",
    "school_data_complete[\"maths_score2\"]=school_data_complete[\"maths_score\"]\n",
    "school_data_complete[\"reading_score2\"]=school_data_complete[\"reading_score\"]\n",
    "school_data_complete[\"Passing Math\"]=school_data_complete[\"maths_score\"] > 50\n",
    "school_data_complete[\"Passing Reading\"]=school_data_complete[\"reading_score\"] > 50\n",
    "\n",
    "#school_data_complete[\"Overall Passing2\"] = school_data_complete.loc[(student_data[\"maths_score\"] >= 50) & (\n",
    " #   student_data[\"reading_score\"] >= 50)]\n",
    "\n",
    "# Calculate overall passing status where both math and reading are passed\n",
    "school_data_complete['Overall Passing'] = school_data_complete['Passing Math'] & school_data_complete['Passing Reading']\n",
    "\n",
    "grouped = school_data_complete.groupby('school_name').agg({\n",
    "    'type': 'first',\n",
    "    'size': 'first',\n",
    "    'budget': 'first',\n",
    "    'maths_score2': 'mean',\n",
    "    'reading_score2': 'mean',\n",
    "    'Passing Math': 'mean',\n",
    "    'Passing Reading': 'mean',\n",
    "    'Overall Passing': 'mean',\n",
    "#    'Overall Passing2': 'mean',\n",
    "    'maths_score': lambda x: (x >= 50).sum() / len(x) * 100,\n",
    "    'reading_score': lambda x: (x >= 50).sum() / len(x) * 100\n",
    "}).reset_index()\n",
    "\n",
    "# Calculate additional columns\n",
    "grouped['Per Student Budget'] = grouped['budget'] / grouped['size']\n",
    "# Calculate the overall passing percentage\n",
    "#grouped['% Overall Passing'] = grouped[['Passing Math', 'Passing Reading']].mean(axis=1) * 100\n",
    "grouped['% Overall Passing'] = (grouped['Overall Passing']) / grouped['size']  * 100\n",
    "\n",
    "# Rename columns\n",
    "grouped.rename(columns={\n",
    "    'school_name': 'School Name',\n",
    "    'type': 'School Type',\n",
    "    'size': 'Total Students',\n",
    "    'budget': 'Total School Budget',\n",
    "    'maths_score2': 'Average Maths Score',\n",
    "    'reading_score2': 'Average Reading Score',\n",
    "    'maths_score': '% Passing Maths',\n",
    "    'reading_score': '% Passing Reading'\n",
    "}, inplace=True)\n",
    "\n",
    "# Print the result\n",
    "grouped = grouped.loc[:,[\"School Name\", \"School Type\",\"Total Students\",\n",
    "                 \"Per Student Budget\",\"Average Maths Score\",\n",
    "                 \"Average Reading Score\",\"% Passing Maths\",\n",
    "                  \"% Passing Reading\",\"% Overall Passing\"]]\n",
    "grouped.set_index('School Name', inplace=True)  # use 'School_Name' as index\n",
    "grouped.rename_axis(None, inplace=True)   # to hide the index header\n",
    "grouped"
   ]
  },
  {
   "cell_type": "code",
   "execution_count": null,
   "metadata": {},
   "outputs": [],
   "source": []
  },
  {
   "cell_type": "code",
   "execution_count": null,
   "metadata": {},
   "outputs": [],
   "source": [
    "school_data_complete[\"Overall Passing2\"] = school_data_complete.loc[(student_data[\"maths_score\"] >= 50) & (\n",
    " #   student_data[\"reading_score\"] >= 50)].count()\n",
    "school_data_complete"
   ]
  },
  {
   "cell_type": "markdown",
   "metadata": {},
   "source": [
    "## School Summary"
   ]
  },
  {
   "cell_type": "code",
   "execution_count": null,
   "metadata": {},
   "outputs": [],
   "source": []
  },
  {
   "cell_type": "markdown",
   "metadata": {},
   "source": [
    "* Create an overview table that summarises key metrics about each school, including:\n",
    "  * School Name\n",
    "  * School Type\n",
    "  * Total Students\n",
    "  * Total School Budget\n",
    "  * Per Student Budget\n",
    "  * Average Maths Score\n",
    "  * Average Reading Score\n",
    "  * % Passing Maths\n",
    "  * % Passing Reading\n",
    "  * % Overall Passing (The percentage of students that passed maths **and** reading.)\n",
    "  \n",
    "* Create a dataframe to hold the above results"
   ]
  },
  {
   "cell_type": "code",
   "execution_count": null,
   "metadata": {},
   "outputs": [],
   "source": []
  },
  {
   "cell_type": "code",
   "execution_count": null,
   "metadata": {},
   "outputs": [],
   "source": []
  },
  {
   "cell_type": "markdown",
   "metadata": {},
   "source": [
    "## Top Performing Schools (By % Overall Passing)"
   ]
  },
  {
   "cell_type": "markdown",
   "metadata": {},
   "source": [
    "* Sort and display the top five performing schools by % overall passing."
   ]
  },
  {
   "cell_type": "code",
   "execution_count": null,
   "metadata": {
    "scrolled": true
   },
   "outputs": [],
   "source": []
  },
  {
   "cell_type": "code",
   "execution_count": null,
   "metadata": {},
   "outputs": [],
   "source": []
  },
  {
   "cell_type": "markdown",
   "metadata": {},
   "source": [
    "## Bottom Performing Schools (By % Overall Passing)"
   ]
  },
  {
   "cell_type": "markdown",
   "metadata": {},
   "source": [
    "* Sort and display the five worst-performing schools by % overall passing."
   ]
  },
  {
   "cell_type": "code",
   "execution_count": null,
   "metadata": {},
   "outputs": [],
   "source": [
    "school_data_complete.head()"
   ]
  },
  {
   "cell_type": "code",
   "execution_count": null,
   "metadata": {},
   "outputs": [],
   "source": [
    "school_data_complete.dtypes"
   ]
  },
  {
   "cell_type": "code",
   "execution_count": null,
   "metadata": {},
   "outputs": [],
   "source": [
    "\n",
    "\n",
    "\n",
    "math_grouped = school_data_complete.groupby('school_name').agg({\n",
    "    'year': 'first',\n",
    "    'size': 'first',\n",
    "    'budget': 'first',\n",
    "    'maths_score2': 'mean',\n",
    "    'reading_score2': 'mean',\n",
    "    'Passing Math': 'mean',\n",
    "    'Passing Reading': 'mean',\n",
    "    'Overall Passing': 'mean',\n",
    "#    'Overall Passing2': 'mean',\n",
    "    'maths_score': lambda x: (x >= 50).sum() / len(x) * 100,\n",
    "    'reading_score': lambda x: (x >= 50).sum() / len(x) * 100\n",
    "}).reset_index()"
   ]
  },
  {
   "cell_type": "code",
   "execution_count": null,
   "metadata": {},
   "outputs": [],
   "source": [
    "school_data_complete[\"Math Year 9\"] = school_data_complete.loc[school_data_complete['year'] == 9, 'maths_score']\n",
    "school_data_complete[\"Math Year 10\"] = school_data_complete.loc[school_data_complete['year'] == 10, 'maths_score']\n",
    "school_data_complete[\"Math Year 11\"] = school_data_complete.loc[school_data_complete['year'] == 11, 'maths_score']\n",
    "school_data_complete[\"Math Year 12\"] = school_data_complete.loc[school_data_complete['year'] == 12, 'maths_score']\n",
    "\n",
    "math_grouped_df = school_data_complete.groupby('school_name').agg({\n",
    "    'Math Year 9': 'mean',\n",
    "    'Math Year 10': 'mean',\n",
    "    'Math Year 11': 'mean',\n",
    "    'Math Year 12': 'mean'\n",
    "}).reset_index()\n",
    "\n",
    "# Rename columns\n",
    "math_grouped_df.rename(columns={\n",
    "    'school_name': 'School Name',\n",
    "    'Math Year 9': 'Year 9',\n",
    "    'Math Year 10': 'Year 10',\n",
    "    'Math Year 11': 'Year 11',\n",
    "    'Math Year 12': 'Year 12'    \n",
    "}, inplace=True)\n",
    "\n",
    "math_grouped_df.set_index('School Name', inplace=True)  # use 'School_Name' as index\n",
    "math_grouped_df.rename_axis(None, inplace=True)   # to hide the index header\n",
    "\n",
    "math_grouped_df"
   ]
  },
  {
   "cell_type": "markdown",
   "metadata": {},
   "source": [
    "## Maths Scores by Year"
   ]
  },
  {
   "cell_type": "markdown",
   "metadata": {},
   "source": [
    "* Create a table that lists the average maths score for students of each year level (9, 10, 11, 12) at each school.\n",
    "\n",
    "  * Create a pandas series for each year. Hint: use a conditional statement.\n",
    "  \n",
    "  * Group each series by school\n",
    "  \n",
    "  * Combine the series into a dataframe\n",
    "  \n",
    "  * Optional: give the displayed data cleaner formatting"
   ]
  },
  {
   "cell_type": "code",
   "execution_count": null,
   "metadata": {},
   "outputs": [],
   "source": [
    "school_data_complete[\"Reading Year 9\"] = school_data_complete.loc[school_data_complete['year'] == 9, 'reading_score']\n",
    "school_data_complete[\"Reading Year 10\"] = school_data_complete.loc[school_data_complete['year'] == 10, 'reading_score']\n",
    "school_data_complete[\"Reading Year 11\"] = school_data_complete.loc[school_data_complete['year'] == 11, 'reading_score']\n",
    "school_data_complete[\"Reading Year 12\"] = school_data_complete.loc[school_data_complete['year'] == 12, 'reading_score']\n",
    "\n",
    "reading_grouped_df = school_data_complete.groupby('school_name').agg({\n",
    "    'Reading Year 9': 'mean',\n",
    "    'Reading Year 10': 'mean',\n",
    "    'Reading Year 11': 'mean',\n",
    "    'Reading Year 12': 'mean'\n",
    "}).reset_index()\n",
    "\n",
    "# Rename columns\n",
    "reading_grouped_df.rename(columns={\n",
    "    'school_name': 'School Name',\n",
    "    'Reading Year 9': 'Year 9',\n",
    "    'Reading Year 10': 'Year 10',\n",
    "    'Reading Year 11': 'Year 11',\n",
    "    'Reading Year 12': 'Year 12'    \n",
    "}, inplace=True)\n",
    "\n",
    "reading_grouped_df.set_index('School Name', inplace=True)  # use 'School_Name' as index\n",
    "reading_grouped_df.rename_axis(None, inplace=True)   # to hide the index header\n",
    "\n",
    "reading_grouped_df"
   ]
  },
  {
   "cell_type": "code",
   "execution_count": null,
   "metadata": {},
   "outputs": [],
   "source": [
    "grouped.columns"
   ]
  },
  {
   "cell_type": "code",
   "execution_count": null,
   "metadata": {},
   "outputs": [],
   "source": [
    "grouped.head()"
   ]
  },
  {
   "cell_type": "code",
   "execution_count": null,
   "metadata": {},
   "outputs": [],
   "source": [
    "grouped.dtypes"
   ]
  },
  {
   "cell_type": "code",
   "execution_count": null,
   "metadata": {},
   "outputs": [],
   "source": [
    "# Remove the '$' sign and any non-numeric characters from the column\n",
    "grouped[\"Per Student Budget\"] = grouped[\"Per Student Budget\"].str.replace('$', '', regex=True)\n",
    "\n",
    "# Convert the column to integer\n",
    "grouped[\"Per Student Budget\"] = grouped[\"Per Student Budget\"].astype(float)\n",
    "grouped"
   ]
  },
  {
   "cell_type": "code",
   "execution_count": null,
   "metadata": {},
   "outputs": [],
   "source": [
    "# Create the bins in which Data will be held\n",
    "# Bins are 0, 59.9, 69.9, 79.9, 89.9, 100.   \n",
    "spending_bins = [0, 585, 630, 645, 680]\n",
    "\n",
    "# Create the names for the five bins\n",
    "labels = [\"<$585\", \"$585-630\", \"$630-645\", \"$645-680\"]\n",
    "\n",
    "grouped[\"Spending Ranges (Per Student)\"] = pd.cut(grouped[\"Per Student Budget\"], bins=spending_bins, labels=labels, include_lowest=True)\n",
    "#grouped.groupby[\"Spending Ranges (Per Student)\"]\n",
    "grouped"
   ]
  },
  {
   "cell_type": "code",
   "execution_count": null,
   "metadata": {},
   "outputs": [],
   "source": [
    "# Create the bins in which Data will be held\n",
    "# Bins are 0, 59.9, 69.9, 79.9, 89.9, 100.   \n",
    "spending_bins = [0, 585, 630, 645, 680]\n",
    "\n",
    "# Create the names for the five bins\n",
    "labels = [\"<$585\", \"$585-630\", \"$630-645\", \"$645-680\"]\n",
    "\n",
    "grouped[\"Spending Ranges (Per Student)\"] = pd.cut(grouped[\"Per Student Budget\"], bins=spending_bins, labels=labels, include_lowest=True)\n",
    "grouped.groupby(\"Spending Ranges (Per Student)\")\n",
    "grouped.set_index('Spending Ranges (Per Student)', inplace=True)  # use 'School_Name' as index\n",
    "grouped"
   ]
  },
  {
   "cell_type": "code",
   "execution_count": null,
   "metadata": {},
   "outputs": [],
   "source": [
    "# Create the bins in which Data will be held\n",
    "# Bins are 0, 59.9, 69.9, 79.9, 89.9, 100.   \n",
    "spending_bins = [0, 585, 630, 645, 680]\n",
    "\n",
    "# Create the names for the five bins\n",
    "labels = [\"<$585\", \"$585-630\", \"$630-645\", \"$645-680\"]\n",
    "\n",
    "school_spending_df[\"Spending Ranges (Per Student)\"] = pd.cut(grouped[\"Per Student Budget\"], bins=spending_bins, labels=labels, include_lowest=True)\n",
    "#school_spending_df.groupby(\"Spending Ranges (Per Student)\")\n",
    "school_spending_df.set_index('Spending Ranges (Per Student)', inplace=True)  # use 'School_Name' as index\n",
    "school_spending_df"
   ]
  },
  {
   "cell_type": "code",
   "execution_count": null,
   "metadata": {},
   "outputs": [],
   "source": []
  },
  {
   "cell_type": "code",
   "execution_count": 5,
   "metadata": {},
   "outputs": [
    {
     "ename": "TypeError",
     "evalue": "'<' not supported between instances of 'int' and 'str'",
     "output_type": "error",
     "traceback": [
      "\u001b[1;31m---------------------------------------------------------------------------\u001b[0m",
      "\u001b[1;31mTypeError\u001b[0m                                 Traceback (most recent call last)",
      "Cell \u001b[1;32mIn[5], line 8\u001b[0m\n\u001b[0;32m      5\u001b[0m \u001b[38;5;66;03m# Create the names for the five bins\u001b[39;00m\n\u001b[0;32m      6\u001b[0m labels \u001b[38;5;241m=\u001b[39m [\u001b[38;5;124m\"\u001b[39m\u001b[38;5;124m<$585\u001b[39m\u001b[38;5;124m\"\u001b[39m, \u001b[38;5;124m\"\u001b[39m\u001b[38;5;124m$585-630\u001b[39m\u001b[38;5;124m\"\u001b[39m, \u001b[38;5;124m\"\u001b[39m\u001b[38;5;124m$630-645\u001b[39m\u001b[38;5;124m\"\u001b[39m, \u001b[38;5;124m\"\u001b[39m\u001b[38;5;124m$645-680\u001b[39m\u001b[38;5;124m\"\u001b[39m]\n\u001b[1;32m----> 8\u001b[0m school_spending_df[\u001b[38;5;124m\"\u001b[39m\u001b[38;5;124mSpending Ranges (Per Student)\u001b[39m\u001b[38;5;124m\"\u001b[39m] \u001b[38;5;241m=\u001b[39m pd\u001b[38;5;241m.\u001b[39mcut(grouped[\u001b[38;5;124m\"\u001b[39m\u001b[38;5;124mPer Student Budget\u001b[39m\u001b[38;5;124m\"\u001b[39m], bins\u001b[38;5;241m=\u001b[39mspending_bins, labels\u001b[38;5;241m=\u001b[39mlabels, include_lowest\u001b[38;5;241m=\u001b[39m\u001b[38;5;28;01mTrue\u001b[39;00m)\n\u001b[0;32m     10\u001b[0m \u001b[38;5;66;03m#spending_math_scores = school_spending_df.groupby([\"Spending Ranges (Per Student)\"])[\"Average Maths Score\"].mean()\u001b[39;00m\n\u001b[0;32m     11\u001b[0m \u001b[38;5;66;03m#spending_reading_scores = school_spending_df.groupby([\"Spending Ranges (Per Student)\"])[\"Average Reading Score\"].mean()\u001b[39;00m\n\u001b[0;32m     12\u001b[0m \u001b[38;5;66;03m#spending_passing_math = school_spending_df.groupby([\"Spending Ranges (Per Student)\"])[\"% Passing Maths\"].mean()\u001b[39;00m\n\u001b[0;32m     13\u001b[0m \u001b[38;5;66;03m#spending_passing_reading = school_spending_df.groupby([\"Spending Ranges (Per Student)\"])[\"% Passing Reading\"].mean()\u001b[39;00m\n\u001b[0;32m     14\u001b[0m \u001b[38;5;66;03m#overall_passing_spending = school_spending_df.groupby([\"Spending Ranges (Per Student)\"])[\"% Overall Passing\"].mean()\u001b[39;00m\n\u001b[0;32m     15\u001b[0m school_spending_df\n",
      "File \u001b[1;32m~\\anaconda3\\envs\\PythonData\\Lib\\site-packages\\pandas\\core\\reshape\\tile.py:293\u001b[0m, in \u001b[0;36mcut\u001b[1;34m(x, bins, right, labels, retbins, precision, include_lowest, duplicates, ordered)\u001b[0m\n\u001b[0;32m    290\u001b[0m     \u001b[38;5;28;01mif\u001b[39;00m (np\u001b[38;5;241m.\u001b[39mdiff(bins\u001b[38;5;241m.\u001b[39mastype(\u001b[38;5;124m\"\u001b[39m\u001b[38;5;124mfloat64\u001b[39m\u001b[38;5;124m\"\u001b[39m)) \u001b[38;5;241m<\u001b[39m \u001b[38;5;241m0\u001b[39m)\u001b[38;5;241m.\u001b[39many():\n\u001b[0;32m    291\u001b[0m         \u001b[38;5;28;01mraise\u001b[39;00m \u001b[38;5;167;01mValueError\u001b[39;00m(\u001b[38;5;124m\"\u001b[39m\u001b[38;5;124mbins must increase monotonically.\u001b[39m\u001b[38;5;124m\"\u001b[39m)\n\u001b[1;32m--> 293\u001b[0m fac, bins \u001b[38;5;241m=\u001b[39m _bins_to_cuts(\n\u001b[0;32m    294\u001b[0m     x,\n\u001b[0;32m    295\u001b[0m     bins,\n\u001b[0;32m    296\u001b[0m     right\u001b[38;5;241m=\u001b[39mright,\n\u001b[0;32m    297\u001b[0m     labels\u001b[38;5;241m=\u001b[39mlabels,\n\u001b[0;32m    298\u001b[0m     precision\u001b[38;5;241m=\u001b[39mprecision,\n\u001b[0;32m    299\u001b[0m     include_lowest\u001b[38;5;241m=\u001b[39minclude_lowest,\n\u001b[0;32m    300\u001b[0m     dtype\u001b[38;5;241m=\u001b[39mdtype,\n\u001b[0;32m    301\u001b[0m     duplicates\u001b[38;5;241m=\u001b[39mduplicates,\n\u001b[0;32m    302\u001b[0m     ordered\u001b[38;5;241m=\u001b[39mordered,\n\u001b[0;32m    303\u001b[0m )\n\u001b[0;32m    305\u001b[0m \u001b[38;5;28;01mreturn\u001b[39;00m _postprocess_for_cut(fac, bins, retbins, dtype, original)\n",
      "File \u001b[1;32m~\\anaconda3\\envs\\PythonData\\Lib\\site-packages\\pandas\\core\\reshape\\tile.py:428\u001b[0m, in \u001b[0;36m_bins_to_cuts\u001b[1;34m(x, bins, right, labels, precision, include_lowest, dtype, duplicates, ordered)\u001b[0m\n\u001b[0;32m    425\u001b[0m         bins \u001b[38;5;241m=\u001b[39m unique_bins\n\u001b[0;32m    427\u001b[0m side: Literal[\u001b[38;5;124m\"\u001b[39m\u001b[38;5;124mleft\u001b[39m\u001b[38;5;124m\"\u001b[39m, \u001b[38;5;124m\"\u001b[39m\u001b[38;5;124mright\u001b[39m\u001b[38;5;124m\"\u001b[39m] \u001b[38;5;241m=\u001b[39m \u001b[38;5;124m\"\u001b[39m\u001b[38;5;124mleft\u001b[39m\u001b[38;5;124m\"\u001b[39m \u001b[38;5;28;01mif\u001b[39;00m right \u001b[38;5;28;01melse\u001b[39;00m \u001b[38;5;124m\"\u001b[39m\u001b[38;5;124mright\u001b[39m\u001b[38;5;124m\"\u001b[39m\n\u001b[1;32m--> 428\u001b[0m ids \u001b[38;5;241m=\u001b[39m ensure_platform_int(bins\u001b[38;5;241m.\u001b[39msearchsorted(x, side\u001b[38;5;241m=\u001b[39mside))\n\u001b[0;32m    430\u001b[0m \u001b[38;5;28;01mif\u001b[39;00m include_lowest:\n\u001b[0;32m    431\u001b[0m     ids[np\u001b[38;5;241m.\u001b[39masarray(x) \u001b[38;5;241m==\u001b[39m bins[\u001b[38;5;241m0\u001b[39m]] \u001b[38;5;241m=\u001b[39m \u001b[38;5;241m1\u001b[39m\n",
      "\u001b[1;31mTypeError\u001b[0m: '<' not supported between instances of 'int' and 'str'"
     ]
    }
   ],
   "source": [
    "# Create the bins in which Data will be held\n",
    "# Bins are 0, 59.9, 69.9, 79.9, 89.9, 100.   \n",
    "spending_bins = [0, 585, 630, 645, 680]\n",
    "\n",
    "# Create the names for the five bins\n",
    "labels = [\"<$585\", \"$585-630\", \"$630-645\", \"$645-680\"]\n",
    "\n",
    "school_spending_df[\"Spending Ranges (Per Student)\"] = pd.cut(grouped[\"Per Student Budget\"], bins=spending_bins, labels=labels, include_lowest=True)\n",
    "\n",
    "#spending_math_scores = school_spending_df.groupby([\"Spending Ranges (Per Student)\"])[\"Average Maths Score\"].mean()\n",
    "#spending_reading_scores = school_spending_df.groupby([\"Spending Ranges (Per Student)\"])[\"Average Reading Score\"].mean()\n",
    "#spending_passing_math = school_spending_df.groupby([\"Spending Ranges (Per Student)\"])[\"% Passing Maths\"].mean()\n",
    "#spending_passing_reading = school_spending_df.groupby([\"Spending Ranges (Per Student)\"])[\"% Passing Reading\"].mean()\n",
    "#overall_passing_spending = school_spending_df.groupby([\"Spending Ranges (Per Student)\"])[\"% Overall Passing\"].mean()\n",
    "school_spending_df\n"
   ]
  },
  {
   "cell_type": "markdown",
   "metadata": {},
   "source": [
    "## Reading Score by Year"
   ]
  },
  {
   "cell_type": "markdown",
   "metadata": {},
   "source": [
    "* Perform the same operations as above for reading scores"
   ]
  },
  {
   "cell_type": "code",
   "execution_count": null,
   "metadata": {},
   "outputs": [],
   "source": [
    "# Create the bins in which Data will be held\n",
    "# Bins are 0, 59.9, 69.9, 79.9, 89.9, 100.   \n",
    "spending_bins = [0, 585, 630, 645, 680]\n",
    "\n",
    "# Create the names for the five bins\n",
    "labels = [\"<$585\", \"$585-630\", \"$630-645\", \"$645-680\"]\n",
    "\n",
    "grouped[\"Spending Ranges (Per Student)\"] = pd.cut(grouped[\"Per Student Budget\"], bins=spending_bins, labels=labels, include_lowest=True)\n",
    "\n",
    "school_spending_df = grouped\n",
    "\n",
    "spending_math_scores = school_spending_df.groupby([\"Spending Ranges (Per Student)\"])[\"Average Maths Score\"].mean()\n",
    "spending_reading_scores = school_spending_df.groupby([\"Spending Ranges (Per Student)\"])[\"Average Reading Score\"].mean()\n",
    "spending_passing_math = school_spending_df.groupby([\"Spending Ranges (Per Student)\"])[\"% Passing Maths\"].mean()\n",
    "spending_passing_reading = school_spending_df.groupby([\"Spending Ranges (Per Student)\"])[\"% Passing Reading\"].mean()\n",
    "overall_passing_spending = school_spending_df.groupby([\"Spending Ranges (Per Student)\"])[\"% Overall Passing\"].mean()\n",
    "\n",
    "spending_summary = pd.DataFrame({\n",
    "    \"Spending Ranges (Per Student)\": [labels],\n",
    "    \"Average Maths Score\": [spending_math_scores],\n",
    "    \"Average Reading Score\": [spending_reading_scores],\n",
    "    \"% Passing Maths\": [spending_passing_math],\n",
    "    \"% Passing Reading\": [spending_passing_reading],\n",
    "    \"% Overall Passing\": [overall_passing_spending]\n",
    "})\n",
    "spending_summary.set_index('Spending Ranges (Per Student)', inplace=True)  # use 'School_Name' as index\n",
    "#spending_summary.rename_axis(None, inplace=True)   # to hide the index header\n",
    "#spending_summary[\"Total Students\"] = result_df[\"Total Students\"].map('{:,.0f}'.format)\n",
    "#spending_summary[\"Total Budget\"] = result_df[\"Total Budget\"].map('${:,.2f}'.format)\n",
    "\n",
    "spending_summary"
   ]
  },
  {
   "cell_type": "code",
   "execution_count": null,
   "metadata": {},
   "outputs": [],
   "source": [
    "\tAverage Maths Score\tAverage Reading Score\t% Passing Maths\t% Passing Reading\t% Overall Passing\n",
    "Spending Ranges (Per Student)\t\t\t\t\t\n",
    "<$585\t71.36\t70.72\t88.84\t86.39\t76.72\n",
    "$585-630\t72.07\t71.03\t91.52\t87.29\t79.88\n",
    "$630-645\t69.85\t69.84\t84.69\t83.76\t71.00\n",
    "$645-680\t68.88\t69.05\t81.57\t81.77\t66.76"
   ]
  },
  {
   "cell_type": "markdown",
   "metadata": {},
   "source": [
    "## Scores by School Spending"
   ]
  },
  {
   "cell_type": "markdown",
   "metadata": {},
   "source": [
    "* Create a table that breaks down school performances based on average Spending Ranges (Per Student). Use 4 reasonable bins to group school spending. Include in the table each of the following:\n",
    "  * Average Maths Score\n",
    "  * Average Reading Score\n",
    "  * % Passing Maths\n",
    "  * % Passing Reading\n",
    "  * Overall Passing Rate (Average of the above two)"
   ]
  },
  {
   "cell_type": "code",
   "execution_count": null,
   "metadata": {},
   "outputs": [],
   "source": []
  },
  {
   "cell_type": "markdown",
   "metadata": {},
   "source": [
    "## Scores by School Size"
   ]
  },
  {
   "cell_type": "markdown",
   "metadata": {},
   "source": [
    "* Perform the same operations as above, based on school size."
   ]
  },
  {
   "cell_type": "code",
   "execution_count": null,
   "metadata": {
    "scrolled": true
   },
   "outputs": [],
   "source": []
  },
  {
   "cell_type": "markdown",
   "metadata": {},
   "source": [
    "## Scores by School Type"
   ]
  },
  {
   "cell_type": "markdown",
   "metadata": {},
   "source": [
    "* Perform the same operations as above, based on school type"
   ]
  },
  {
   "cell_type": "code",
   "execution_count": null,
   "metadata": {},
   "outputs": [],
   "source": []
  },
  {
   "cell_type": "code",
   "execution_count": null,
   "metadata": {},
   "outputs": [],
   "source": []
  }
 ],
 "metadata": {
  "anaconda-cloud": {},
  "kernel_info": {
   "name": "python3"
  },
  "kernelspec": {
   "display_name": "Python 3 (ipykernel)",
   "language": "python",
   "name": "python3"
  },
  "language_info": {
   "codemirror_mode": {
    "name": "ipython",
    "version": 3
   },
   "file_extension": ".py",
   "mimetype": "text/x-python",
   "name": "python",
   "nbconvert_exporter": "python",
   "pygments_lexer": "ipython3",
   "version": "3.11.4"
  },
  "latex_envs": {
   "LaTeX_envs_menu_present": true,
   "autoclose": false,
   "autocomplete": true,
   "bibliofile": "biblio.bib",
   "cite_by": "apalike",
   "current_citInitial": 1,
   "eqLabelWithNumbers": true,
   "eqNumInitial": 1,
   "hotkeys": {
    "equation": "Ctrl-E",
    "itemize": "Ctrl-I"
   },
   "labels_anchors": false,
   "latex_user_defs": false,
   "report_style_numbering": false,
   "user_envs_cfg": false
  },
  "nteract": {
   "version": "0.8.4"
  }
 },
 "nbformat": 4,
 "nbformat_minor": 4
}
